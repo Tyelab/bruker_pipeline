{
 "cells": [
  {
   "cell_type": "code",
   "execution_count": 20,
   "id": "a9ff8f2a-9772-45cf-9f81-eb3542fddabb",
   "metadata": {},
   "outputs": [],
   "source": [
    "import subprocess\n",
    "from pathlib import Path\n",
    "import xml.etree.ElementTree as ET\n",
    "import lxml.etree"
   ]
  },
  {
   "cell_type": "code",
   "execution_count": 23,
   "id": "86dfcc15-1414-43db-bec7-1eee085fcbc1",
   "metadata": {},
   "outputs": [],
   "source": [
    "def determine_ripper(data_dir, ripper_dir):\n",
    "    \"\"\"Determine which version of the Prairie View ripper to use based on reading metadata.\"\"\"\n",
    "    env_files = list(data_dir.glob('*.env'))\n",
    "    if len(env_files) != 1:\n",
    "        raise RippingError('Only expected 1 env file in %s, but found: %s' % (data_dir, env_files))\n",
    "    try:\n",
    "        \n",
    "        tree = ET.parse(str(data_dir / env_files[0]))\n",
    "        root = tree.getroot()\n",
    "    \n",
    "    except ET.ParseError:\n",
    "        \n",
    "        parser = lxml.etree.XMLParser(recover=True)\n",
    "        root = lxml.etree.parse(str(data_dir / env_files[0]), parser).getroot()\n",
    "        \n",
    "    version = root.attrib['version']\n",
    "\n",
    "    ripper = ripper_dir / f'{version}' / 'Utilities' / 'Image-Block Ripping Utility.exe'\n",
    "#     logger.info('Data created with Prairie version %s, using ripper: %s', version, ripper)\n",
    "    return ripper"
   ]
  },
  {
   "cell_type": "code",
   "execution_count": 24,
   "id": "f21d3b0f-ecac-493f-b884-a3a7e3a0ab9c",
   "metadata": {},
   "outputs": [],
   "source": [
    "x = determine_ripper(Path(\"C:/Users/jdelahanty.SNL/Desktop/ripper_test/\"), Path(\"Y:/bruker_pipeline/docker/prairie_view/\"))"
   ]
  },
  {
   "cell_type": "code",
   "execution_count": 25,
   "id": "4ac062ee-e9e3-44b4-bcf0-5c20927ebfc2",
   "metadata": {},
   "outputs": [
    {
     "data": {
      "text/plain": [
       "WindowsPath('Y:/bruker_pipeline/docker/prairie_view/5.5.64.500/Utilities/Image-Block Ripping Utility.exe')"
      ]
     },
     "execution_count": 25,
     "metadata": {},
     "output_type": "execute_result"
    }
   ],
   "source": [
    "x"
   ]
  },
  {
   "cell_type": "code",
   "execution_count": 28,
   "id": "ad6c97ca-7456-4dc4-bbb3-323611b331a1",
   "metadata": {},
   "outputs": [],
   "source": [
    "y = \"C:/Users/jdelahanty.SNL/Desktop/5.5.64.500/Utilities/Image-Block Ripping Utility.exe\""
   ]
  },
  {
   "cell_type": "code",
   "execution_count": 29,
   "id": "c9604efc-4224-4a1d-9d38-3e1c4eb0f91b",
   "metadata": {},
   "outputs": [],
   "source": [
    "cmd = [y, '-KeepRaw', '-AddRawFile', \n",
    "       'C:/Users/jdelahanty.SNL/Desktop/ripper_test/Cycle00001_Filelist.txt',\n",
    "       '-SetOutputDirectory', 'C:/Users/jdelahanty.SNL/Desktop/ripper_test/',\n",
    "       '-Convert'\n",
    "      ]"
   ]
  },
  {
   "cell_type": "code",
   "execution_count": 31,
   "id": "e81d9eea-e33a-4d8a-8073-0de5b1a6bacb",
   "metadata": {},
   "outputs": [],
   "source": [
    "process = subprocess.Popen(cmd)\n",
    "process2 = subprocess.Popen(cmd)"
   ]
  },
  {
   "cell_type": "code",
   "execution_count": null,
   "id": "4eda648d-bba9-41d4-8df3-73f91c90f115",
   "metadata": {},
   "outputs": [],
   "source": []
  }
 ],
 "metadata": {
  "kernelspec": {
   "display_name": "Python 3",
   "language": "python",
   "name": "python3"
  },
  "language_info": {
   "codemirror_mode": {
    "name": "ipython",
    "version": 3
   },
   "file_extension": ".py",
   "mimetype": "text/x-python",
   "name": "python",
   "nbconvert_exporter": "python",
   "pygments_lexer": "ipython3",
   "version": "3.9.6"
  }
 },
 "nbformat": 4,
 "nbformat_minor": 5
}
