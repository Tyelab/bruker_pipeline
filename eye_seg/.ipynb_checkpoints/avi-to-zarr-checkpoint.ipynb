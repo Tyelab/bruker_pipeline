{
 "cells": [
  {
   "cell_type": "code",
   "execution_count": 1,
   "id": "91f5ecb7-9182-4d6a-ad17-1eed29a924d0",
   "metadata": {},
   "outputs": [],
   "source": [
    "import zarr\n",
    "import cv2\n",
    "from skimage import io\n",
    "import h5py\n",
    "import numpy as np"
   ]
  },
  {
   "cell_type": "code",
   "execution_count": 10,
   "id": "c5f3d08a-93a7-4ed3-a3ae-1f26bfda3631",
   "metadata": {},
   "outputs": [
    {
     "name": "stdout",
     "output_type": "stream",
     "text": [
      "Finished video reading\n",
      "Written zarr\n"
     ]
    },
    {
     "data": {
      "text/plain": [
       "<HDF5 dataset \"test\": shape (1030, 1024, 1280, 3), type \"|u1\">"
      ]
     },
     "execution_count": 10,
     "metadata": {},
     "output_type": "execute_result"
    }
   ],
   "source": [
    "cap = cv2.VideoCapture(\"C:/Users/jdelahanty.SNL/Desktop/20210610_LHE014_plane0.avi\")\n",
    "\n",
    "raw = []\n",
    "\n",
    "if (cap.isOpened() == False):\n",
    "    print(\"error\")\n",
    "else:\n",
    "    fps = int(cap.get(5))\n",
    "    frame_count = cap.get(7)\n",
    "\n",
    "counter = 0\n",
    "\n",
    "while cap.isOpened() is True:\n",
    "    ret, frame = cap.read()\n",
    "    if ret is True:\n",
    "        raw.append(frame)\n",
    "        counter += 1\n",
    "    else:\n",
    "        break\n",
    "\n",
    "print(\"Finished video reading\")\n",
    "\n",
    "f_out = zarr.open(\"C:/Users/jdelahanty.SNL/Desktop/full_wince.zarr\", \"w\")\n",
    "\n",
    "ds_out = f_out.create_dataset(name=\"raw\",\n",
    "                             data=raw,\n",
    "                             compressor=zarr.get_codec({\n",
    "                                 \"id\": \"gzip\",\n",
    "                                 \"level\" : 5}))\n",
    "print(\"Written zarr\")\n",
    "\n",
    "ds_out.attrs[\"resolution\"] = [1,1,1]\n",
    "ds_out.attrs[\"offset\"] = [0,0,0]\n",
    "\n",
    "\n",
    "h5_out = h5py.File('C:/Users/jdelahanty.SNL/Desktop/wince.h5', 'w')\n",
    "\n",
    "h5_out.create_dataset(\"test\", data=raw)\n",
    "\n"
   ]
  },
  {
   "cell_type": "code",
   "execution_count": 8,
   "id": "ce0aa867-dc43-4490-9f79-23a6735df844",
   "metadata": {},
   "outputs": [],
   "source": [
    "z2 = zarr.open('C:/Users/jdelahanty.SNL/Desktop/wince.zarr', mode='r')"
   ]
  },
  {
   "cell_type": "code",
   "execution_count": 5,
   "id": "658039cc-23b2-4859-a199-96a5898cfddb",
   "metadata": {},
   "outputs": [
    {
     "name": "stdout",
     "output_type": "stream",
     "text": [
      "Finished video reading\n",
      "Finished writing n5\n"
     ]
    }
   ],
   "source": [
    "cap = cv2.VideoCapture(\"C:/Users/jdelahanty.SNL/Desktop/.avi\")\n",
    "\n",
    "raw = []\n",
    "\n",
    "if (cap.isOpened() == False):\n",
    "    print(\"error\")\n",
    "else:\n",
    "    fps = int(cap.get(5))\n",
    "    frame_count = cap.get(7)\n",
    "\n",
    "counter = 0\n",
    "\n",
    "while True:\n",
    "    ret, frame = cap.read()\n",
    "    if ret is True:\n",
    "        raw.append(frame)\n",
    "        counter += 1\n",
    "    else:\n",
    "        break\n",
    "\n",
    "print(\"Finished video reading\")\n",
    "\n",
    "array = np.array(raw)\n",
    "\n",
    "data = np.squeeze(array[:,:,:,0])\n",
    "\n",
    "f_out = zarr.open(\"C:/Users/jdelahanty.SNL/Desktop/blink5.n5\", \"a\")\n",
    "\n",
    "ds_out = f_out.create_dataset(name=\"raw\",\n",
    "                             data=data,\n",
    "                             compressor=zarr.get_codec({\n",
    "                                 \"id\": \"gzip\",\n",
    "                                 \"level\" : 5}))\n",
    "\n",
    "ds_out.attrs[\"resolution\"] = [1,1,1]\n",
    "ds_out.attrs[\"offset\"] = [0,0,0]\n",
    "\n",
    "\n",
    "print(\"Finished writing n5\")"
   ]
  },
  {
   "cell_type": "code",
   "execution_count": 5,
   "id": "57625bfc-3d08-42a6-8b23-145e044a32be",
   "metadata": {},
   "outputs": [
    {
     "name": "stdout",
     "output_type": "stream",
     "text": [
      "Finished video reading\n",
      "(1030, 1024, 1280, 3)\n"
     ]
    }
   ],
   "source": [
    "cap = cv2.VideoCapture(\"C:/Users/jdelahanty.SNL/Desktop/20210710_CSC002_test1_plane0_wince.avi\")\n",
    "\n",
    "raw = []\n",
    "\n",
    "if (cap.isOpened() == False):\n",
    "    print(\"error\")\n",
    "else:\n",
    "    fps = int(cap.get(5))\n",
    "    frame_count = cap.get(7)\n",
    "\n",
    "counter = 0\n",
    "\n",
    "while cap.isOpened() is True:\n",
    "    ret, frame = cap.read()\n",
    "    if ret is True:\n",
    "        raw.append(frame)\n",
    "        counter += 1\n",
    "    else:\n",
    "        break\n",
    "\n",
    "print(\"Finished video reading\")\n",
    "\n",
    "array = np.array(raw)\n",
    "print(array.shape)"
   ]
  },
  {
   "cell_type": "code",
   "execution_count": 7,
   "id": "3bf021ac-7db7-4a7a-854c-76f132fa33cc",
   "metadata": {},
   "outputs": [],
   "source": [
    "data = np.squeeze(array[:,:,:,0])"
   ]
  },
  {
   "cell_type": "code",
   "execution_count": 9,
   "id": "c5b5b0c4-95f1-4cb2-bc4c-4a24ee6c3131",
   "metadata": {},
   "outputs": [
    {
     "data": {
      "text/plain": [
       "(1030, 1024, 1280)"
      ]
     },
     "execution_count": 9,
     "metadata": {},
     "output_type": "execute_result"
    }
   ],
   "source": [
    "data.shape"
   ]
  },
  {
   "cell_type": "code",
   "execution_count": 10,
   "id": "355264d0-19b3-489b-89c3-5164fdf9fbf1",
   "metadata": {},
   "outputs": [
    {
     "name": "stdout",
     "output_type": "stream",
     "text": [
      "Finished writing n5\n"
     ]
    }
   ],
   "source": [
    "f_out = zarr.open(\"C:/Users/jdelahanty.SNL/Desktop/wince_test.n5\", \"a\")\n",
    "\n",
    "ds_out = f_out.create_dataset(name=\"raw\",\n",
    "                             data=data,\n",
    "                             compressor=zarr.get_codec({\n",
    "                                 \"id\": \"gzip\",\n",
    "                                 \"level\" : 5}))\n",
    "\n",
    "ds_out.attrs[\"resolution\"] = [1,1,1]\n",
    "ds_out.attrs[\"offset\"] = [0,0,0]\n",
    "\n",
    "print(\"Finished writing n5\")"
   ]
  },
  {
   "cell_type": "code",
   "execution_count": null,
   "id": "16938298-4320-4386-aad6-d8e019bb6633",
   "metadata": {},
   "outputs": [],
   "source": []
  }
 ],
 "metadata": {
  "kernelspec": {
   "display_name": "Python 3",
   "language": "python",
   "name": "python3"
  },
  "language_info": {
   "codemirror_mode": {
    "name": "ipython",
    "version": 3
   },
   "file_extension": ".py",
   "mimetype": "text/x-python",
   "name": "python",
   "nbconvert_exporter": "python",
   "pygments_lexer": "ipython3",
   "version": "3.9.6"
  }
 },
 "nbformat": 4,
 "nbformat_minor": 5
}
