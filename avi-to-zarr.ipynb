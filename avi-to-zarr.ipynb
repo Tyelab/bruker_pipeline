{
 "cells": [
  {
   "cell_type": "code",
   "execution_count": 6,
   "id": "91f5ecb7-9182-4d6a-ad17-1eed29a924d0",
   "metadata": {},
   "outputs": [],
   "source": [
    "import zarr\n",
    "import cv2\n",
    "from skimage import io\n",
    "import h5py"
   ]
  },
  {
   "cell_type": "code",
   "execution_count": 10,
   "id": "c5f3d08a-93a7-4ed3-a3ae-1f26bfda3631",
   "metadata": {},
   "outputs": [
    {
     "name": "stdout",
     "output_type": "stream",
     "text": [
      "Finished video reading\n",
      "Written zarr\n"
     ]
    },
    {
     "data": {
      "text/plain": [
       "<HDF5 dataset \"test\": shape (1030, 1024, 1280, 3), type \"|u1\">"
      ]
     },
     "execution_count": 10,
     "metadata": {},
     "output_type": "execute_result"
    }
   ],
   "source": [
    "cap = cv2.VideoCapture(\"C:/Users/jdelahanty.SNL/Desktop/20210710_CSC002_test1_plane0_wince.avi\")\n",
    "\n",
    "raw = []\n",
    "\n",
    "if (cap.isOpened() == False):\n",
    "    print(\"error\")\n",
    "else:\n",
    "    fps = int(cap.get(5))\n",
    "    frame_count = cap.get(7)\n",
    "\n",
    "counter = 0\n",
    "\n",
    "while cap.isOpened() is True:\n",
    "    ret, frame = cap.read()\n",
    "    if ret is True:\n",
    "        raw.append(frame)\n",
    "        counter += 1\n",
    "    else:\n",
    "        break\n",
    "\n",
    "print(\"Finished video reading\")\n",
    "\n",
    "f_out = zarr.open(\"C:/Users/jdelahanty.SNL/Desktop/wince.zarr\", \"w\")\n",
    "\n",
    "ds_out = f_out.create_dataset(name=\"raw\",\n",
    "                             data=raw,\n",
    "                             compressor=zarr.get_codec({\n",
    "                                 \"id\": \"gzip\",\n",
    "                                 \"level\" : 5}))\n",
    "print(\"Written zarr\")\n",
    "\n",
    "ds_out.attrs[\"resolution\"] = [1,1,1]\n",
    "ds_out.attrs[\"offset\"] = [0,0,0]\n",
    "\n",
    "\n",
    "h5_out = h5py.File('C:/Users/jdelahanty.SNL/Desktop/wince.h5', 'w')\n",
    "\n",
    "h5_out.create_dataset(\"test\", data=raw)\n",
    "\n"
   ]
  },
  {
   "cell_type": "code",
   "execution_count": 8,
   "id": "ce0aa867-dc43-4490-9f79-23a6735df844",
   "metadata": {},
   "outputs": [],
   "source": [
    "z2 = zarr.open('C:/Users/jdelahanty.SNL/Desktop/wince.zarr', mode='r')"
   ]
  },
  {
   "cell_type": "code",
   "execution_count": 9,
   "id": "43adf465-4553-4ba2-9527-210a482afd97",
   "metadata": {},
   "outputs": [
    {
     "data": {
      "text/plain": [
       "<zarr.hierarchy.Group '/' read-only>"
      ]
     },
     "execution_count": 9,
     "metadata": {},
     "output_type": "execute_result"
    }
   ],
   "source": []
  },
  {
   "cell_type": "code",
   "execution_count": null,
   "id": "658039cc-23b2-4859-a199-96a5898cfddb",
   "metadata": {},
   "outputs": [],
   "source": []
  }
 ],
 "metadata": {
  "kernelspec": {
   "display_name": "Python 3",
   "language": "python",
   "name": "python3"
  },
  "language_info": {
   "codemirror_mode": {
    "name": "ipython",
    "version": 3
   },
   "file_extension": ".py",
   "mimetype": "text/x-python",
   "name": "python",
   "nbconvert_exporter": "python",
   "pygments_lexer": "ipython3",
   "version": "3.9.6"
  }
 },
 "nbformat": 4,
 "nbformat_minor": 5
}
