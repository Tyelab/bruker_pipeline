{
 "cells": [
  {
   "cell_type": "code",
   "execution_count": 2,
   "id": "a9ff8f2a-9772-45cf-9f81-eb3542fddabb",
   "metadata": {},
   "outputs": [],
   "source": [
    "import subprocess\n",
    "import multiprocessing as mp\n",
    "from pathlib import Path\n",
    "import xml.etree.ElementTree as ET\n",
    "import lxml.etree\n",
    "import time\n",
    "import os"
   ]
  },
  {
   "cell_type": "code",
   "execution_count": 19,
   "id": "d2f09a36-4c2a-4756-a368-68a483f8a7d7",
   "metadata": {},
   "outputs": [],
   "source": [
    "directory = str(Path(\"C:/Users/jdelahanty/Desktop/test\"))\n",
    "ripper = \"C:/Users/jdelahanty/Desktop/5.5.64.500/Image-BlockRippingUtility.exe\""
   ]
  },
  {
   "cell_type": "code",
   "execution_count": 24,
   "id": "de67cb1c-af90-4baf-9e97-34233afda4f0",
   "metadata": {},
   "outputs": [],
   "source": [
    "cmd1 = [ripper,\n",
    "        '-KeepRaw',\n",
    "        '-IncludeSubFolders',\n",
    "        '-AddRawFileWithSubFolders',\n",
    "        directory,\n",
    "        '-Convert']\n",
    "\n",
    "process = subprocess.Popen(cmd1)"
   ]
  },
  {
   "cell_type": "code",
   "execution_count": 23,
   "id": "4276d3ac-9723-4e82-b541-119994dbca2d",
   "metadata": {},
   "outputs": [
    {
     "data": {
      "text/plain": [
       "449651106"
      ]
     },
     "execution_count": 23,
     "metadata": {},
     "output_type": "execute_result"
    }
   ],
   "source": [
    "os.stat(\"C:/Users/jdelahanty/Desktop/test/20211211_CSE016_plane1_-356.7_raw-112_Cycle00001_VoltageRecording_001.csv\").st_size"
   ]
  },
  {
   "cell_type": "code",
   "execution_count": 27,
   "id": "cc1c995a-402d-46d7-8c4d-eb1374a836df",
   "metadata": {},
   "outputs": [
    {
     "name": "stdout",
     "output_type": "stream",
     "text": [
      "832550401\n",
      "884391511\n",
      "936051209\n",
      "987029311\n",
      "1038701766\n",
      "1091233156\n",
      "1143789129\n",
      "1196459649\n",
      "1249135998\n",
      "1301861818\n",
      "1354451303\n",
      "1406276353\n",
      "1458188184\n",
      "1509947291\n",
      "1561549461\n",
      "1612660006\n",
      "1665447863\n",
      "1717397032\n",
      "1762998667\n",
      "csv ripping complete!\n",
      "csv ripping complete!\n",
      "csv ripping complete!\n",
      "csv ripping complete!\n"
     ]
    },
    {
     "ename": "KeyboardInterrupt",
     "evalue": "",
     "output_type": "error",
     "traceback": [
      "\u001b[1;31m---------------------------------------------------------------------------\u001b[0m",
      "\u001b[1;31mKeyboardInterrupt\u001b[0m                         Traceback (most recent call last)",
      "\u001b[1;32mC:\\Users\\JDELAH~1\\AppData\\Local\\Temp/ipykernel_5868/1934972111.py\u001b[0m in \u001b[0;36m<module>\u001b[1;34m\u001b[0m\n\u001b[0;32m      6\u001b[0m \u001b[1;32mwhile\u001b[0m \u001b[0mremaining_sec\u001b[0m \u001b[1;33m>=\u001b[0m \u001b[1;36m0\u001b[0m\u001b[1;33m:\u001b[0m\u001b[1;33m\u001b[0m\u001b[1;33m\u001b[0m\u001b[0m\n\u001b[0;32m      7\u001b[0m     \u001b[0mremaining_sec\u001b[0m \u001b[1;33m-=\u001b[0m \u001b[0mRIP_POLL_SECS\u001b[0m\u001b[1;33m\u001b[0m\u001b[1;33m\u001b[0m\u001b[0m\n\u001b[1;32m----> 8\u001b[1;33m     \u001b[0mtime\u001b[0m\u001b[1;33m.\u001b[0m\u001b[0msleep\u001b[0m\u001b[1;33m(\u001b[0m\u001b[0mRIP_POLL_SECS\u001b[0m\u001b[1;33m)\u001b[0m\u001b[1;33m\u001b[0m\u001b[1;33m\u001b[0m\u001b[0m\n\u001b[0m\u001b[0;32m      9\u001b[0m \u001b[1;33m\u001b[0m\u001b[0m\n\u001b[0;32m     10\u001b[0m     \u001b[0mnew_csv_size\u001b[0m \u001b[1;33m=\u001b[0m \u001b[0mos\u001b[0m\u001b[1;33m.\u001b[0m\u001b[0mstat\u001b[0m\u001b[1;33m(\u001b[0m\u001b[1;34m\"C:/Users/jdelahanty/Desktop/test/20211211_CSE016_plane1_-356.7_raw-112_Cycle00001_VoltageRecording_001.csv\"\u001b[0m\u001b[1;33m)\u001b[0m\u001b[1;33m.\u001b[0m\u001b[0mst_size\u001b[0m\u001b[1;33m\u001b[0m\u001b[1;33m\u001b[0m\u001b[0m\n",
      "\u001b[1;31mKeyboardInterrupt\u001b[0m: "
     ]
    }
   ],
   "source": [
    "csv_size = os.stat(\"C:/Users/jdelahanty/Desktop/test/20211211_CSE016_plane1_-356.7_raw-112_Cycle00001_VoltageRecording_001.csv\").st_size\n",
    "\n",
    "remaining_sec = 3600\n",
    "RIP_POLL_SECS = 3\n",
    "\n",
    "while remaining_sec >= 0:\n",
    "    remaining_sec -= RIP_POLL_SECS\n",
    "    time.sleep(RIP_POLL_SECS)\n",
    "\n",
    "    new_csv_size = os.stat(\"C:/Users/jdelahanty/Desktop/test/20211211_CSE016_plane1_-356.7_raw-112_Cycle00001_VoltageRecording_001.csv\").st_size\n",
    "    \n",
    "    csv_changed = (csv_size != new_csv_size)\n",
    "    \n",
    "    if csv_changed:\n",
    "        \n",
    "        print(new_csv_size)\n",
    "        \n",
    "        csv_size = new_csv_size\n",
    "        \n",
    "    else:\n",
    "        \n",
    "        print(\"csv ripping complete!\")\n",
    "        \n",
    "        process.kill()\n",
    "        "
   ]
  },
  {
   "cell_type": "code",
   "execution_count": 3,
   "id": "86dfcc15-1414-43db-bec7-1eee085fcbc1",
   "metadata": {},
   "outputs": [],
   "source": [
    "def determine_ripper(data_dir, ripper_dir):\n",
    "    \"\"\"Determine which version of the Prairie View ripper to use based on reading metadata.\"\"\"\n",
    "    env_files = list(data_dir.glob('*.env'))\n",
    "    if len(env_files) != 1:\n",
    "        raise RippingError('Only expected 1 env file in %s, but found: %s' % (data_dir, env_files))\n",
    "    try:\n",
    "        \n",
    "        tree = ET.parse(str(data_dir / env_files[0]))\n",
    "        root = tree.getroot()\n",
    "    \n",
    "    except ET.ParseError:\n",
    "        \n",
    "        parser = lxml.etree.XMLParser(recover=True)\n",
    "        root = lxml.etree.parse(str(data_dir / env_files[0]), parser).getroot()\n",
    "        \n",
    "    version = root.attrib['version']\n",
    "\n",
    "    ripper = ripper_dir / f'{version}' / 'Utilities' / 'Image-Block Ripping Utility.exe'\n",
    "#     logger.info('Data created with Prairie version %s, using ripper: %s', version, ripper)\n",
    "    return ripper"
   ]
  },
  {
   "cell_type": "code",
   "execution_count": 16,
   "id": "f21d3b0f-ecac-493f-b884-a3a7e3a0ab9c",
   "metadata": {},
   "outputs": [],
   "source": [
    "x = determine_ripper(Path(\"G:/test/t1/\"), Path(\"C:/Users/jdelahanty/Desktop/5.5.64.500/Utilities/\"))"
   ]
  },
  {
   "cell_type": "code",
   "execution_count": 17,
   "id": "4ac062ee-e9e3-44b4-bcf0-5c20927ebfc2",
   "metadata": {},
   "outputs": [
    {
     "name": "stdout",
     "output_type": "stream",
     "text": [
      "C:\\Users\\jdelahanty\\Desktop\\5.5.64.500\\Utilities\\5.5.64.500\\Utilities\\Image-Block Ripping Utility.exe\n"
     ]
    }
   ],
   "source": [
    "x\n",
    "print(str(x))"
   ]
  },
  {
   "cell_type": "code",
   "execution_count": 4,
   "id": "ad6c97ca-7456-4dc4-bbb3-323611b331a1",
   "metadata": {},
   "outputs": [],
   "source": [
    "y = \"C:/Users/jdelahanty/Desktop/5.5.64.500/Utilities/Image-Block Ripping Utility.exe\""
   ]
  },
  {
   "cell_type": "code",
   "execution_count": 5,
   "id": "c9604efc-4224-4a1d-9d38-3e1c4eb0f91b",
   "metadata": {},
   "outputs": [],
   "source": [
    "t1_dir = str(Path(\"G:/test/test1/\"))\n",
    "cmd1 = [y, '-KeepRaw',\n",
    "        '-DoNotRipToInputDirectory',\n",
    "        '-IncludeSubFolders',\n",
    "        '-AddRawFileWithSubFolders',\n",
    "        'G:/test/t1',\n",
    "        '-SetOutputDirectory',\n",
    "        str(Path('G:/test/test1')),\n",
    "        '-Convert'\n",
    "      ]\n",
    "\n",
    "cmd2 = [y, '-KeepRaw',\n",
    "        '-DoNotRipToInputDirectory',\n",
    "        '-IncludeSubFolders',\n",
    "        '-AddRawFileWithSubFolders',\n",
    "        'G:/test/t2',\n",
    "        '-SetOutputDirectory',\n",
    "        str(Path('G:/test/test2')),\n",
    "        '-Convert'\n",
    "]\n",
    "\n",
    "cmd_list = [cmd1, cmd2]\n",
    "dir_list = [Path(\"G:/test/test1/t1\"), Path(\"G:/test/test2/t2\")]"
   ]
  },
  {
   "cell_type": "code",
   "execution_count": 6,
   "id": "8077d675-6850-4569-b400-d6766e546453",
   "metadata": {},
   "outputs": [],
   "source": [
    "def get_tiffs(directory):\n",
    "    return list(sorted(directory.glob('*ome.tif')))"
   ]
  },
  {
   "cell_type": "code",
   "execution_count": 7,
   "id": "ba87b0b2-7f74-415b-a487-0ff28ec9d112",
   "metadata": {},
   "outputs": [],
   "source": [
    "def poll_directory(process, directory):\n",
    "    total_images = 1000\n",
    "    \n",
    "    tiffs = 0\n",
    "    \n",
    "    while tiffs < total_images:\n",
    "        \n",
    "        time.sleep(1)\n",
    "        \n",
    "        tif = get_tiffs(directory)\n",
    "        tiffs = len(tif)\n",
    "        \n",
    "        print(directory, tiffs)\n",
    "    \n",
    "    process.kill()"
   ]
  },
  {
   "cell_type": "code",
   "execution_count": null,
   "id": "8de3537b-997e-4f2a-9218-a6fb0c7fb790",
   "metadata": {},
   "outputs": [],
   "source": [
    "   for i in range(10):\n",
    "        proc = mp.Process(target=create, args=(i,))\n",
    "        procs.append(proc)\n",
    "        proc.start()\n",
    "\n",
    "    for proc in procs:\n",
    "        proc.join()\n",
    "\n",
    "    end = time.time()"
   ]
  },
  {
   "cell_type": "code",
   "execution_count": 8,
   "id": "e81d9eea-e33a-4d8a-8073-0de5b1a6bacb",
   "metadata": {},
   "outputs": [],
   "source": [
    "def process(cmd, dir_list):\n",
    "    \n",
    "#     def poll_directory(process, directory):\n",
    "#         total_images = 1000\n",
    "\n",
    "#         tiffs = 0\n",
    "\n",
    "#         while tiffs < total_images:\n",
    "\n",
    "#             time.sleep(1)\n",
    "\n",
    "#             tif = get_tiffs(directory)\n",
    "#             tiffs = len(tif)\n",
    "\n",
    "#             print(directory, tiffs)\n",
    "            \n",
    "#         process.kill()\n",
    "\n",
    "    processes = {}\n",
    "    \n",
    "    j = 0\n",
    "    \n",
    "    for i in cmd:\n",
    "        \n",
    "        processes[\"ripper\"+ str(j)] = [subprocess.Popen(i)]\n",
    "        \n",
    "        j += 1\n",
    "        \n",
    "    print(\"Rippers started...\")\n",
    "    \n",
    "    j = 0\n",
    "    for i in dir_list:\n",
    "        \n",
    "        processes[\"ripper\"+ str(j)].append(i)\n",
    "        \n",
    "        j += 1\n",
    "        \n",
    "    print(processes)\n",
    "    \n",
    "    return processes\n",
    "    \n",
    "        \n",
    "    \n",
    "    \n",
    "        \n",
    "\n",
    "# process(cmd_list, dir_list)\n",
    "# process(cmd2, Path('G:/test/test2/t2'))\n",
    "    \n",
    "    \n",
    "# process = subprocess.Popen(cmd1)\n",
    "# process2 = subprocess.Popen(cmd2)\n",
    "\n"
   ]
  },
  {
   "cell_type": "code",
   "execution_count": 9,
   "id": "e8d9a6db-c688-4a6f-ada0-b882229fbad0",
   "metadata": {},
   "outputs": [
    {
     "name": "stdout",
     "output_type": "stream",
     "text": [
      "Rippers started...\n",
      "{'ripper0': [<subprocess.Popen object at 0x000001B55ED90808>, WindowsPath('G:/test/test1/t1')], 'ripper1': [<subprocess.Popen object at 0x000001B55EF45548>, WindowsPath('G:/test/test2/t2')]}\n",
      "Starting multiprocessing\n",
      "Multiprocessing started\n"
     ]
    }
   ],
   "source": [
    "if __name__ == \"__main__\":\n",
    "    \n",
    "    test = process(cmd_list, dir_list)\n",
    "    \n",
    "    procs = []\n",
    "    \n",
    "    print(\"Starting multiprocessing\")\n",
    "    \n",
    "    for i in test:\n",
    "        try:\n",
    "            proc = mp.Process(target=poll_directory, args=(i[0],i[1],))\n",
    "            procs.append(proc)\n",
    "            proc.start()\n",
    "        except:\n",
    "            break\n",
    "\n",
    "    print(\"Multiprocessing started\")\n",
    "    for proc in procs:\n",
    "        proc.join()\n",
    "    \n",
    "    "
   ]
  },
  {
   "cell_type": "code",
   "execution_count": 180,
   "id": "4eda648d-bba9-41d4-8df3-73f91c90f115",
   "metadata": {},
   "outputs": [
    {
     "name": "stdout",
     "output_type": "stream",
     "text": [
      "<Element Frame at 0x24e4dca8ac8>\n",
      "1000\n"
     ]
    }
   ],
   "source": [
    "parser = lxml.etree.XMLParser(recover=True)\n",
    "root = lxml.etree.parse(str(Path(\"G:/test/t1/pollengrains_ch2-061.xml\")), parser).getroot()\n",
    "\n",
    "# /IndexedValue[@index='Frame']\n",
    "\n",
    "\n",
    "xpath = \"Sequence/Frame[last()]\"\n",
    "\n",
    "# \".//PVStateValue[@key='{key}']\"\n",
    "\n",
    "# for i in root:\n",
    "#     print(lxml.etree.tostring(i))\n",
    "#     for j in i:\n",
    "#         print(lxml.etree.tostring(j))\n",
    "\n",
    "\n",
    "test = root.findall(xpath)\n",
    "\n",
    "for i in test:\n",
    "    print(i)\n",
    "    print(i.attrib[\"index\"])\n",
    "    # for j in i:\n",
    "    #     print(j)\n",
    "        # print(j.items())\n",
    "\n",
    "\n",
    "# print(lxml.etree.tostring(test, pretty_print=True))\n",
    "\n",
    "# root.find('ProcessStart[@Options=\"%s\"][last()]' % test_option).get('Id')\n",
    "\n",
    "# lxml.etree.tostring(element)\n",
    "    "
   ]
  }
 ],
 "metadata": {
  "kernelspec": {
   "display_name": "Python 3 (ipykernel)",
   "language": "python",
   "name": "python3"
  },
  "language_info": {
   "codemirror_mode": {
    "name": "ipython",
    "version": 3
   },
   "file_extension": ".py",
   "mimetype": "text/x-python",
   "name": "python",
   "nbconvert_exporter": "python",
   "pygments_lexer": "ipython3",
   "version": "3.7.11"
  }
 },
 "nbformat": 4,
 "nbformat_minor": 5
}
